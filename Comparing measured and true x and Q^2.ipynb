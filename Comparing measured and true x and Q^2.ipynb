{
 "cells": [
  {
   "cell_type": "markdown",
   "id": "03970bb1",
   "metadata": {},
   "source": [
    "# Comparing Measured and True x and Q<sup>2</sup>"
   ]
  },
  {
   "cell_type": "markdown",
   "id": "36160fea",
   "metadata": {},
   "source": [
    "One of the main goals of analysis of simulated data is to determine how well we will be able to measure the quantities we set out to measure. Since we have access to 'truth' information as well as the 'observed' quantities for the same event, we can make simple comparison."
   ]
  },
  {
   "cell_type": "markdown",
   "id": "2c8aa6b3",
   "metadata": {},
   "source": [
    "Let us start again from the $x$ and $Q^2$ calculations in a previous notebook."
   ]
  },
  {
   "cell_type": "markdown",
   "id": "described-kernel",
   "metadata": {},
   "source": [
    "## Importing packages"
   ]
  },
  {
   "cell_type": "markdown",
   "id": "indoor-desperate",
   "metadata": {},
   "source": [
    "Depending on the versions of uproot and XRootD that you have installed, you may encouter a warning from uproot below. Nevertheless, because of the simple data format of the ATHENA ROOT files, we are able to ignore this warning."
   ]
  },
  {
   "cell_type": "code",
   "execution_count": 175,
   "id": "crazy-lambda",
   "metadata": {},
   "outputs": [],
   "source": [
    "import numpy as np\n",
    "import uproot as ur\n",
    "import awkward as ak\n",
    "import matplotlib.pyplot as plt"
   ]
  },
  {
   "cell_type": "markdown",
   "id": "differential-pierce",
   "metadata": {},
   "source": [
    "## Opening a file with uproot"
   ]
  },
  {
   "cell_type": "markdown",
   "id": "thick-mozambique",
   "metadata": {},
   "source": [
    "To test uproot, we will open a sample file (a DIS simulation sample):"
   ]
  },
  {
   "cell_type": "code",
   "execution_count": 176,
   "id": "defensive-dressing",
   "metadata": {},
   "outputs": [],
   "source": [
    "server = 'root://sci-xrootd.jlab.org//osgpool/eic/'\n",
    "file = 'ATHENA/RECO/master/DIS/NC/18x275/minQ2=1000/pythia8NCDIS_18x275_minQ2=1000_beamEffects_xAngle=-0.025_hiDiv_1.0001.root'"
   ]
  },
  {
   "cell_type": "code",
   "execution_count": 177,
   "id": "wicked-amsterdam",
   "metadata": {},
   "outputs": [],
   "source": [
    "events = ur.open(server + file + ':events')"
   ]
  },
  {
   "cell_type": "markdown",
   "id": "bright-ferry",
   "metadata": {},
   "source": [
    "## Accessing the reconstructed particle momentum"
   ]
  },
  {
   "cell_type": "markdown",
   "id": "living-architecture",
   "metadata": {},
   "source": [
    "For this analysis we will only use the three-momentum `p` and the particle identication code `pid`. We will select only electrons (`pid == 11`) and combine them with their initial momentum $\\vec{p}_0$ which, in the ATHENA coordinate system, is in the negative $z$ direction by definition."
   ]
  },
  {
   "cell_type": "code",
   "execution_count": 178,
   "id": "respected-ivory",
   "metadata": {},
   "outputs": [],
   "source": [
    "reconstructed_particles = events['ReconstructedParticles'].arrays()"
   ]
  },
  {
   "cell_type": "code",
   "execution_count": 179,
   "id": "paperback-arrow",
   "metadata": {},
   "outputs": [],
   "source": [
    "kp1, kp2, kp3 = reconstructed_particles['ReconstructedParticles.p.x'], reconstructed_particles['ReconstructedParticles.p.y'], reconstructed_particles['ReconstructedParticles.p.z']\n",
    "pid = reconstructed_particles['ReconstructedParticles.pid']\n",
    "m = reconstructed_particles['ReconstructedParticles.mass']"
   ]
  },
  {
   "cell_type": "markdown",
   "id": "45227999",
   "metadata": {},
   "source": [
    "## Determining the momentum transfer $Q^2$"
   ]
  },
  {
   "cell_type": "markdown",
   "id": "small-queensland",
   "metadata": {},
   "source": [
    "For all particles we can calculate the energy, which we will consider the zeroth component of the four-momentum $p$."
   ]
  },
  {
   "cell_type": "code",
   "execution_count": 180,
   "id": "collect-secondary",
   "metadata": {},
   "outputs": [],
   "source": [
    "kp0 = np.sqrt(m**2+(kp1**2+kp2**2+kp3**2))"
   ]
  },
  {
   "cell_type": "markdown",
   "id": "9b399a6a",
   "metadata": {},
   "source": [
    "The four-momentum of the incoming electron beam has only a $p_z$ and $E$ component."
   ]
  },
  {
   "cell_type": "code",
   "execution_count": 181,
   "id": "e66bc170",
   "metadata": {},
   "outputs": [],
   "source": [
    "k3 = -18\n",
    "m0 = 0.000511\n",
    "k0 = np.sqrt(m0**2 + k3**2)"
   ]
  },
  {
   "cell_type": "markdown",
   "id": "f289b696",
   "metadata": {},
   "source": [
    "We can now calculate the components of the four-momentum transfer $q_\\mu = (k_\\mu - k'_\\mu)$:"
   ]
  },
  {
   "cell_type": "code",
   "execution_count": 182,
   "id": "boring-testing",
   "metadata": {},
   "outputs": [],
   "source": [
    "q0 = k0 - kp0\n",
    "q1 =    - kp1\n",
    "q2 =    - kp2\n",
    "q3 = k3 - kp3"
   ]
  },
  {
   "cell_type": "markdown",
   "id": "e09538e3",
   "metadata": {},
   "source": [
    "With the four components we can form the squared four-momentum transfer, a scalar quantity, which is $Q^2 = -q^2$:"
   ]
  },
  {
   "cell_type": "code",
   "execution_count": 183,
   "id": "42afb3af",
   "metadata": {},
   "outputs": [],
   "source": [
    "Q2 = -(q0**2 - q1**2 - q2**2 - q3**2)"
   ]
  },
  {
   "cell_type": "markdown",
   "id": "78a60a15",
   "metadata": {},
   "source": [
    "## Determining the momentum fraction $x$"
   ]
  },
  {
   "cell_type": "markdown",
   "id": "27cd2609",
   "metadata": {},
   "source": [
    "In order to determine $x$ we also need the incoming proton momentum $\\vec{p}$. While it might be appealing to think that the proton momentum must be exactly along the $z$ axis as well, this is not the case in the interaction points of the EIC. At interaction point 6 (IP6), the crossing angle is -25 mrad in the $xz$ plane. Thus, the proton four-momentum is:"
   ]
  },
  {
   "cell_type": "code",
   "execution_count": 184,
   "id": "55f001af",
   "metadata": {},
   "outputs": [],
   "source": [
    "alpha = -0.025\n",
    "p1 = 275 * np.sin(alpha)\n",
    "p2 = 0\n",
    "p3 = 275 * np.cos(alpha)\n",
    "p0 = np.sqrt(0.938**2 + p1**2 + p2**2 + p3**2)"
   ]
  },
  {
   "cell_type": "markdown",
   "id": "cc2b33da",
   "metadata": {},
   "source": [
    "With this proton four-momentum we can now calculate the product $p \\cdot q$, another scalar quantity:"
   ]
  },
  {
   "cell_type": "code",
   "execution_count": 185,
   "id": "08e33a81",
   "metadata": {},
   "outputs": [],
   "source": [
    "pq = p0 * q0 - p1 * q1 - p2 * q2 - p3 * q3"
   ]
  },
  {
   "cell_type": "markdown",
   "id": "a00af22f",
   "metadata": {},
   "source": [
    "and finally also $x = \\frac{Q^2}{2 pq}$:"
   ]
  },
  {
   "cell_type": "code",
   "execution_count": 186,
   "id": "69cc2c91",
   "metadata": {},
   "outputs": [],
   "source": [
    "x = 0.5 * Q2 / pq"
   ]
  },
  {
   "cell_type": "markdown",
   "id": "0a56bd21",
   "metadata": {},
   "source": [
    "## Determining the true $x$ "
   ]
  },
  {
   "cell_type": "markdown",
   "id": "aecc5acd",
   "metadata": {},
   "source": [
    "Because we have access to the `mcparticles2` branch, we can determine the 'true' $x$. For the sake of this tutorial, let's use the lab frame quantities to construct that value of $x$."
   ]
  },
  {
   "cell_type": "code",
   "execution_count": 187,
   "id": "09f6e676",
   "metadata": {},
   "outputs": [],
   "source": [
    "pdgID = events['mcparticles2.pdgID'].array()\n",
    "status = events['mcparticles2.genStatus'].array()\n",
    "psx,psy,psz = events['mcparticles2.ps.x'].array(), events['mcparticles2.ps.y'].array(), events['mcparticles2.ps.z'].array()"
   ]
  },
  {
   "cell_type": "markdown",
   "id": "a0ebd081",
   "metadata": {},
   "source": [
    "We can calculate the lab angles, and electron energies. Those give us the true $Q^2$."
   ]
  },
  {
   "cell_type": "code",
   "execution_count": 188,
   "id": "74c07aa9",
   "metadata": {},
   "outputs": [],
   "source": [
    "E = 18\n",
    "Ep = np.sqrt(0.000511**2 + psx**2 + psy**2 + psz**2)\n",
    "theta = np.arctan2(np.sqrt(psx**2 + psy**2), psz)\n",
    "Q2_true = 2 * E * Ep * (1 + np.cos(theta))"
   ]
  },
  {
   "cell_type": "markdown",
   "id": "11ae044d",
   "metadata": {},
   "source": [
    "We can also calculate the true $y$, the center of mass energy $s$, and the true $x$."
   ]
  },
  {
   "cell_type": "code",
   "execution_count": 189,
   "id": "068be599",
   "metadata": {},
   "outputs": [],
   "source": [
    "y_true = 1 - 0.5 * Ep / E * (1 - np.cos(theta))\n",
    "s = 4 * 18 * 275\n",
    "x_true = Q2_true / s / y_true"
   ]
  },
  {
   "cell_type": "code",
   "execution_count": 190,
   "id": "31998892",
   "metadata": {},
   "outputs": [
    {
     "data": {
      "text/plain": [
       "140.71247279470288"
      ]
     },
     "execution_count": 190,
     "metadata": {},
     "output_type": "execute_result"
    }
   ],
   "source": [
    "np.sqrt(s)"
   ]
  },
  {
   "cell_type": "markdown",
   "id": "90052ac0",
   "metadata": {},
   "source": [
    "We still have to select our primary events: all calculations above also included protons, pions, and even particles that are internal to the generator and never intended to be simulated."
   ]
  },
  {
   "cell_type": "code",
   "execution_count": 191,
   "id": "2a29438b",
   "metadata": {},
   "outputs": [],
   "source": [
    "select = np.logical_and((status == 1), (pdgID == 11))"
   ]
  },
  {
   "cell_type": "markdown",
   "id": "49a89f90",
   "metadata": {},
   "source": [
    "## Comparing the true $x$ and observed $x$"
   ]
  },
  {
   "cell_type": "markdown",
   "id": "23ab6d04",
   "metadata": {},
   "source": [
    "So, how well did we do? Let's take a look at the numbers first."
   ]
  },
  {
   "cell_type": "code",
   "execution_count": 192,
   "id": "d7549662",
   "metadata": {},
   "outputs": [
    {
     "name": "stdout",
     "output_type": "stream",
     "text": [
      "[[0.107, 9.17e-05], [0.442, 0.000376], [0.177], ... [0.128], [0.297], [], []]\n",
      "[[0.104, 9.04e-05], [0.396, 0.000382], [0.174], ... [0.127], [0.268], [], []]\n"
     ]
    }
   ],
   "source": [
    "print(x[pid == 11])\n",
    "print(x_true[select])"
   ]
  },
  {
   "cell_type": "code",
   "execution_count": 193,
   "id": "613d4262",
   "metadata": {},
   "outputs": [
    {
     "name": "stdout",
     "output_type": "stream",
     "text": [
      "[[1.25e+03, 1.81], [1.08e+03, 7.44], [1.34e+03], ... [1.32e+03], [1.18e+03], [], []]\n",
      "[[1.24e+03, 1.79], [1.07e+03, 7.57], [1.34e+03], ... [1.33e+03], [1.18e+03], [], []]\n"
     ]
    }
   ],
   "source": [
    "print(Q2[pid == 11])\n",
    "print(Q2_true[select])"
   ]
  },
  {
   "cell_type": "markdown",
   "id": "d298bc6e",
   "metadata": {},
   "source": [
    "We notice that the values are clearly not 100% identical, but we notice a few other things as well:\n",
    "- There are multiple electrons in each events, and we have to make sure we compare the same values.\n",
    "- There are even negative signs for $x$.\n",
    "\n",
    "Whereas the mathematical calculation of $x$ for a scattered electron guarantees a value between 0 and 1, that is not true anymore when we combine measured momenta (which can be reconstructed as larger than the beam energy due to resolution effects), or when angles can be reconstructed differently from the actual scattering angle."
   ]
  },
  {
   "cell_type": "markdown",
   "id": "fcc181aa",
   "metadata": {},
   "source": [
    "If we wish to plot the observed and true values of $x$ with respect to each others, we will need to ensure that the two structures are identical: one and only one entry per event, or \n",
    "\n",
    "at all for either. Let's use the electron with the largest $Q^2$ in each event."
   ]
  },
  {
   "cell_type": "code",
   "execution_count": 201,
   "id": "b3ab99aa",
   "metadata": {},
   "outputs": [
    {
     "name": "stderr",
     "output_type": "stream",
     "text": [
      "/srv/conda/envs/notebook/lib/python3.7/site-packages/numpy/ma/core.py:1158: RuntimeWarning: overflow encountered in true_divide\n",
      "  result = self.f(da, db, *args, **kwargs)\n"
     ]
    }
   ],
   "source": [
    "Q2_true_largest = ak.to_numpy(ak.max(Q2_true[select],1))\n",
    "Q2_meas_largest = ak.to_numpy(ak.max(Q2[pid == 11],1))\n",
    "Q2_ratio_meas_to_true = Q2_meas_largest / Q2_true_largest"
   ]
  },
  {
   "cell_type": "code",
   "execution_count": 203,
   "id": "338d3db0",
   "metadata": {},
   "outputs": [
    {
     "data": {
      "image/png": "[encoded data removed]",
      "text/plain": [
       "<Figure size 432x288 with 1 Axes>"
      ]
     },
     "metadata": {
      "needs_background": "light"
     },
     "output_type": "display_data"
    }
   ],
   "source": [
    "plt.hist(Q2_ratio_meas_to_true, range=[0.9, 1.1], bins = 20)\n",
    "plt.yscale('log')\n",
    "plt.xlabel('meas $Q^2$ / true $Q^2$')\n",
    "plt.ylabel('Number of events')\n",
    "plt.show()"
   ]
  },
  {
   "cell_type": "code",
   "execution_count": 195,
   "id": "d52cf7dc",
   "metadata": {},
   "outputs": [
    {
     "data": {
      "image/png": "[encoded data removed]",
      "text/plain": [
       "<Figure size 432x288 with 1 Axes>"
      ]
     },
     "metadata": {
      "needs_background": "light"
     },
     "output_type": "display_data"
    }
   ],
   "source": [
    "Q2_bins = np.linspace(750,4e3,20)\n",
    "plt.hist2d(Q2_true_largest, Q2_meas_largest, bins = [Q2_bins, Q2_bins])\n",
    "plt.xlabel('true $Q^2$ [GeV^2]')\n",
    "plt.ylabel('meas $Q^2$ [GeV^2]')\n",
    "plt.show()"
   ]
  },
  {
   "cell_type": "markdown",
   "id": "e80c6a30",
   "metadata": {},
   "source": [
    "Now we have to get the $x$ values to use the corresponding values."
   ]
  },
  {
   "cell_type": "code",
   "execution_count": 196,
   "id": "f9a022f4",
   "metadata": {},
   "outputs": [],
   "source": [
    "x_true_largestQ2 = np.array(ak.to_numpy(x_true[Q2_true==ak.max(Q2_true[select],1)]))\n",
    "x_meas_largestQ2 = np.array(ak.to_numpy(x[Q2==ak.max(Q2[pid==11],1)]))\n",
    "x_ratio_meas_to_true = x_meas_largestQ2 / x_true_largestQ2"
   ]
  },
  {
   "cell_type": "markdown",
   "id": "787eecf5",
   "metadata": {},
   "source": [
    "We can now plot both a histogram of the ratio and another scatter plot."
   ]
  },
  {
   "cell_type": "code",
   "execution_count": 197,
   "id": "f6552cb9",
   "metadata": {},
   "outputs": [
    {
     "data": {
      "image/png": "[encoded data removed]",
      "text/plain": [
       "<Figure size 432x288 with 1 Axes>"
      ]
     },
     "metadata": {
      "needs_background": "light"
     },
     "output_type": "display_data"
    }
   ],
   "source": [
    "plt.hist(x_ratio_meas_to_true, range=[0.5, 1.5], bins = 20)\n",
    "plt.yscale('log')\n",
    "plt.xlabel('meas $x$ / true $x$')\n",
    "plt.ylabel('Number of events')\n",
    "plt.show()"
   ]
  },
  {
   "cell_type": "code",
   "execution_count": 200,
   "id": "30257b68",
   "metadata": {},
   "outputs": [
    {
     "data": {
      "image/png": "[encoded data removed]",
      "text/plain": [
       "<Figure size 432x288 with 1 Axes>"
      ]
     },
     "metadata": {
      "needs_background": "light"
     },
     "output_type": "display_data"
    }
   ],
   "source": [
    "x_bins = np.logspace(-2,0,30)\n",
    "plt.hist2d(x_true_largestQ2[:,0], x_meas_largestQ2[:,0], bins = [x_bins, x_bins])\n",
    "plt.xscale('log')\n",
    "plt.yscale('log')\n",
    "plt.xlabel('true $x$ [GeV^2]')\n",
    "plt.ylabel('meas $x$ [GeV^2]')\n",
    "plt.show()"
   ]
  },
  {
   "cell_type": "code",
   "execution_count": null,
   "id": "7e467a7b",
   "metadata": {},
   "outputs": [],
   "source": []
  }
 ],
 "metadata": {
  "kernelspec": {
   "display_name": "Python 3 (ipykernel)",
   "language": "python",
   "name": "python3"
  },
  "language_info": {
   "codemirror_mode": {
    "name": "ipython",
    "version": 3
   },
   "file_extension": ".py",
   "mimetype": "text/x-python",
   "name": "python",
   "nbconvert_exporter": "python",
   "pygments_lexer": "ipython3",
   "version": "3.10.5"
  }
 },
 "nbformat": 4,
 "nbformat_minor": 5
}
