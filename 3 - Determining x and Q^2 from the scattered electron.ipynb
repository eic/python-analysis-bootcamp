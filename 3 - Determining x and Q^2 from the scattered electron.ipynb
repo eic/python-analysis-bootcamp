{
 "cells": [
  {
   "cell_type": "markdown",
   "id": "subjective-bleeding",
   "metadata": {},
   "source": [
    "# 3. Determining x and Q<sup>2</sup> from the scattered electron"
   ]
  },
  {
   "cell_type": "markdown",
   "id": "dense-tsunami",
   "metadata": {
    "tags": []
   },
   "source": [
    "In this notebook we determine DIS kinematics parameters from the scattered lepton side. Note that all these variables are _invariants_, meaning they are independent from the reference frame we choose:\n",
    " - $Q^2 = -q\\cdot q = -(k - k^\\prime)^2$\n",
    " - $y = \\frac{P\\cdot q}{ P\\cdot k}$\n",
    " - $x = \\frac{Q^2}{ 2P\\cdot q}$"
   ]
  },
  {
   "cell_type": "markdown",
   "id": "described-kernel",
   "metadata": {
    "tags": []
   },
   "source": [
    "## Importing packages"
   ]
  },
  {
   "cell_type": "markdown",
   "id": "indoor-desperate",
   "metadata": {},
   "source": [
    "Depending on the versions of uproot and XRootD that you have installed, you may encouter a warning from uproot below. Nevertheless, because of the simple data format of the flat ROOT files, we are able to ignore this warning."
   ]
  },
  {
   "cell_type": "code",
   "execution_count": null,
   "id": "crazy-lambda",
   "metadata": {},
   "outputs": [],
   "source": [
    "import numpy as np\n",
    "import uproot as ur\n",
    "import awkward as ak\n",
    "import matplotlib.pyplot as plt"
   ]
  },
  {
   "cell_type": "markdown",
   "id": "differential-pierce",
   "metadata": {},
   "source": [
    "## Opening a file with uproot"
   ]
  },
  {
   "cell_type": "markdown",
   "id": "thick-mozambique",
   "metadata": {},
   "source": [
    "To test uproot, we will open a sample file (a DIS simulation sample, used for the ATHENA detector proposal):"
   ]
  },
  {
   "cell_type": "code",
   "execution_count": null,
   "id": "defensive-dressing",
   "metadata": {},
   "outputs": [],
   "source": [
    "server = 'root://sci-xrootd.jlab.org//osgpool/eic/'\n",
    "file = 'ATHENA/RECO/deathvalley-v1.0/DIS/NC/18x275/minQ2=10/pythia8NCDIS_18x275_minQ2=10_beamEffects_xAngle=-0.025_hiDiv_vtxfix_4_084.0008.root'"
   ]
  },
  {
   "cell_type": "code",
   "execution_count": null,
   "id": "wicked-amsterdam",
   "metadata": {},
   "outputs": [],
   "source": [
    "events = ur.open(server + file + ':events')"
   ]
  },
  {
   "cell_type": "markdown",
   "id": "bright-ferry",
   "metadata": {},
   "source": [
    "## Accessing the reconstructed particle momentum"
   ]
  },
  {
   "cell_type": "markdown",
   "id": "cognitive-standing",
   "metadata": {},
   "source": [
    "We will access the particle momentum in the `ReconstructedParticles` branch. This contains the reconstructed momentum from the tracking system. As a reminder, here are the available fields:"
   ]
  },
  {
   "cell_type": "code",
   "execution_count": null,
   "id": "double-gardening",
   "metadata": {},
   "outputs": [],
   "source": [
    "events['ReconstructedParticles'].keys()"
   ]
  },
  {
   "cell_type": "markdown",
   "id": "living-architecture",
   "metadata": {},
   "source": [
    "For this analysis we will only use the reconstructed three-momentum `p` and the particle identication code `pid`. We will select only electrons (`pid == 11`) and combine them with their initial momentum $\\vec{p}_0$ which, in the EIC detector coordinate system, is in the negative $z$ direction by definition."
   ]
  },
  {
   "cell_type": "code",
   "execution_count": null,
   "id": "respected-ivory",
   "metadata": {},
   "outputs": [],
   "source": [
    "reconstructed_particles = events['ReconstructedParticles'].arrays()"
   ]
  },
  {
   "cell_type": "code",
   "execution_count": null,
   "id": "paperback-arrow",
   "metadata": {},
   "outputs": [],
   "source": [
    "kp1, kp2, kp3 = reconstructed_particles['ReconstructedParticles.p.x'], reconstructed_particles['ReconstructedParticles.p.y'], reconstructed_particles['ReconstructedParticles.p.z']\n",
    "pid = reconstructed_particles['ReconstructedParticles.pid']\n",
    "m = reconstructed_particles['ReconstructedParticles.mass']"
   ]
  },
  {
   "cell_type": "markdown",
   "id": "spanish-wonder",
   "metadata": {},
   "source": [
    "The mass of the particle is stored, but completely defined by the `pid` code. For the electron (PID code `11`) it is indeed always 0.511 MeV."
   ]
  },
  {
   "cell_type": "code",
   "execution_count": null,
   "id": "sporting-ending",
   "metadata": {},
   "outputs": [],
   "source": [
    "m[pid==11]"
   ]
  },
  {
   "cell_type": "markdown",
   "id": "124aab5e",
   "metadata": {},
   "source": [
    "## Determining the momentum transfer $Q^2$"
   ]
  },
  {
   "cell_type": "markdown",
   "id": "small-queensland",
   "metadata": {},
   "source": [
    "For all particles we can calculate the lab frame energy, which we will consider the zeroth component of the four-momentum $p$."
   ]
  },
  {
   "cell_type": "code",
   "execution_count": null,
   "id": "collect-secondary",
   "metadata": {},
   "outputs": [],
   "source": [
    "kp0 = np.sqrt(m**2+(kp1**2+kp2**2+kp3**2))"
   ]
  },
  {
   "cell_type": "markdown",
   "id": "edc0e384",
   "metadata": {},
   "source": [
    "The four-momentum of the incoming electron beam has only a $p_z$ and $E$ component."
   ]
  },
  {
   "cell_type": "code",
   "execution_count": null,
   "id": "de3c5440",
   "metadata": {},
   "outputs": [],
   "source": [
    "k3 = -18\n",
    "m0 = 0.000511\n",
    "k0 = np.sqrt(m0**2 + k3**2)"
   ]
  },
  {
   "cell_type": "markdown",
   "id": "78158805",
   "metadata": {},
   "source": [
    "We can now calculate the components of the four-momentum transfer $q_\\mu = (k_\\mu - k'_\\mu)$ in the lab frame:"
   ]
  },
  {
   "cell_type": "code",
   "execution_count": null,
   "id": "boring-testing",
   "metadata": {},
   "outputs": [],
   "source": [
    "q0 = k0 - kp0\n",
    "q1 =    - kp1\n",
    "q2 =    - kp2\n",
    "q3 = k3 - kp3"
   ]
  },
  {
   "cell_type": "markdown",
   "id": "7065a572",
   "metadata": {},
   "source": [
    "With the four components we can form the squared four-momentum transfer, an invariant quantity, which is $Q^2 = -q^2$:"
   ]
  },
  {
   "cell_type": "code",
   "execution_count": null,
   "id": "c4e039d4",
   "metadata": {},
   "outputs": [],
   "source": [
    "Q2 = -(q0**2 - q1**2 - q2**2 - q3**2)"
   ]
  },
  {
   "cell_type": "code",
   "execution_count": null,
   "id": "boolean-alabama",
   "metadata": {},
   "outputs": [],
   "source": [
    "plt.hist(ak.flatten(Q2[pid==11]), bins=100)\n",
    "plt.yscale('log')\n",
    "plt.xlabel('$Q^2$ [GeV$^2$]')\n",
    "plt.ylabel('Number of events')\n",
    "plt.show()"
   ]
  },
  {
   "cell_type": "markdown",
   "id": "b8e515a6",
   "metadata": {},
   "source": [
    "As we can see, the $Q^2$ falls rapidly in this sample: large $Q^2$ events are less well represented than small $Q^2$ samples. Let's look closer at the lower limit."
   ]
  },
  {
   "cell_type": "code",
   "execution_count": null,
   "id": "3174b0e0",
   "metadata": {},
   "outputs": [],
   "source": [
    "plt.hist(ak.flatten(Q2[pid==11]), range=[0,100], bins=100)\n",
    "plt.yscale('log')\n",
    "plt.xlabel('$Q^2$ [GeV$^2$]')\n",
    "plt.ylabel('Number of events')\n",
    "plt.show()"
   ]
  },
  {
   "cell_type": "markdown",
   "id": "6cd57224",
   "metadata": {},
   "source": [
    "We can see that  a very small number of entries fall below 10 GeV<sup>2</sup>. Part of this is due to realistic simulation/reconstruction. The other part is because we have not made any attempt at ensuring that only 1 electron track per event is taken into account. An extension of this exercise could involve selecting only the largest momentum electron in those cases where there are multiple electrons in an event (hard!)."
   ]
  },
  {
   "cell_type": "markdown",
   "id": "b9b8e067",
   "metadata": {},
   "source": [
    "## Determining the momentum fraction $x$"
   ]
  },
  {
   "cell_type": "markdown",
   "id": "ca8f8f6f",
   "metadata": {},
   "source": [
    "In order to determine $x$ we also need the incoming proton momentum $\\vec{p}$. While it might be appealing to think that the proton momentum must be exactly along the $z$ axis as well, this is not the case in the interaction points of the EIC. At interaction point 6 (IP6), the crossing angle is -25 mrad in the $xz$ plane. Thus, the proton four-momentum is:"
   ]
  },
  {
   "cell_type": "code",
   "execution_count": null,
   "id": "319f5873",
   "metadata": {},
   "outputs": [],
   "source": [
    "alpha = -0.025\n",
    "p1 = 275 * np.sin(alpha)\n",
    "p2 = 0\n",
    "p3 = 275 * np.cos(alpha)\n",
    "p0 = np.sqrt(0.938**2 + p1**2 + p2**2 + p3**2)"
   ]
  },
  {
   "cell_type": "markdown",
   "id": "e6b23648",
   "metadata": {},
   "source": [
    "With this proton four-momentum we can now calculate the product $p \\cdot q$, another scalar quantity:"
   ]
  },
  {
   "cell_type": "code",
   "execution_count": null,
   "id": "48c23c99",
   "metadata": {},
   "outputs": [],
   "source": [
    "pq = p0 * q0 - p1 * q1 - p2 * q2 - p3 * q3"
   ]
  },
  {
   "cell_type": "markdown",
   "id": "be200f33",
   "metadata": {},
   "source": [
    "and finally also $x = \\frac{Q^2}{2 pq}$:"
   ]
  },
  {
   "cell_type": "code",
   "execution_count": null,
   "id": "9dd6677b",
   "metadata": {},
   "outputs": [],
   "source": [
    "x = 0.5 * Q2 / pq"
   ]
  },
  {
   "cell_type": "code",
   "execution_count": null,
   "id": "86796bbe",
   "metadata": {},
   "outputs": [],
   "source": [
    "plt.hist(ak.flatten(x[pid==11]), range=[-.1, 1.5], bins=100)\n",
    "plt.yscale('log')\n",
    "plt.xlabel('$x$')\n",
    "plt.ylabel('Number of events')\n",
    "plt.show()"
   ]
  },
  {
   "cell_type": "markdown",
   "id": "80bd89dd",
   "metadata": {},
   "source": [
    "Without a limit on the allowable values of $x$, between 0 and 1 for electron-proton scattering, we are once again easily fooled by outlier events that are caused by non-primary electrons in the event. We can limit our range and choose a logarithmic $x$-axis:"
   ]
  },
  {
   "cell_type": "code",
   "execution_count": null,
   "id": "787f2193",
   "metadata": {},
   "outputs": [],
   "source": [
    "plt.hist(ak.to_numpy(x[Q2==ak.max(Q2[pid==11],1)]), range=[5e-4,1], bins=100)\n",
    "plt.xscale('log')\n",
    "plt.yscale('log')\n",
    "plt.xlabel('$x$')\n",
    "plt.ylabel('Number of events')\n",
    "plt.show()"
   ]
  },
  {
   "cell_type": "markdown",
   "id": "020f9cdc",
   "metadata": {},
   "source": [
    "We are still not entirely happy witht his figure, so we change to logarithmic binning as well:"
   ]
  },
  {
   "cell_type": "code",
   "execution_count": null,
   "id": "286c5c35",
   "metadata": {},
   "outputs": [],
   "source": [
    "x_bins = np.logspace(-4, 0, 30) # specify exponents of 10\n",
    "plt.hist(ak.flatten(x[pid==11]), bins=x_bins)\n",
    "plt.xscale('log')\n",
    "plt.yscale('log')\n",
    "plt.xlabel('$x$')\n",
    "plt.ylabel('Number of events')\n",
    "plt.show()"
   ]
  },
  {
   "cell_type": "markdown",
   "id": "bef7b9c7",
   "metadata": {},
   "source": [
    "## Kinematic coverage plot for DIS events"
   ]
  },
  {
   "cell_type": "markdown",
   "id": "b35c27ff",
   "metadata": {},
   "source": [
    "Finally, let's put our work on $Q^2$ and $x$ together to calculate a characteristic plot in DIS: the coverage in the $Q^2$ vs $x$ plane."
   ]
  },
  {
   "cell_type": "code",
   "execution_count": null,
   "id": "9e2cc1b7",
   "metadata": {},
   "outputs": [],
   "source": [
    "x_bins = np.logspace(-4, 0, 30) # specify exponents of 10\n",
    "Q2_bins = np.logspace(-1, 3, 40) # specify exponents of 10\n",
    "plt.hist2d(ak.to_numpy(ak.flatten(x[pid==11])), ak.to_numpy(ak.flatten(Q2[pid==11])), bins = [x_bins, Q2_bins])\n",
    "plt.xscale('log')\n",
    "plt.yscale('log')\n",
    "plt.xlabel('$x$')\n",
    "plt.ylabel('$Q^2$ [Gev]')\n",
    "plt.show()"
   ]
  },
  {
   "cell_type": "markdown",
   "id": "71e62e7f",
   "metadata": {},
   "source": [
    "## Next steps"
   ]
  },
  {
   "cell_type": "markdown",
   "id": "1bb27571",
   "metadata": {},
   "source": [
    "There are several next steps you can take from here.\n",
    "- You could compare the kinematic coverage for several different beam energy configurations (this requires more than just a change in the file you load).\n",
    "- You could attempt to load multiple files, to increase the statistical precision of your sample."
   ]
  },
  {
   "cell_type": "code",
   "execution_count": null,
   "id": "08968dcb",
   "metadata": {},
   "outputs": [],
   "source": []
  }
 ],
 "metadata": {
  "kernelspec": {
   "display_name": "Python 3 (ipykernel)",
   "language": "python",
   "name": "python3"
  },
  "language_info": {
   "codemirror_mode": {
    "name": "ipython",
    "version": 3
   },
   "file_extension": ".py",
   "mimetype": "text/x-python",
   "name": "python",
   "nbconvert_exporter": "python",
   "pygments_lexer": "ipython3",
   "version": "3.10.5"
  }
 },
 "nbformat": 4,
 "nbformat_minor": 5
}
