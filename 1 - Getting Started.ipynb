{
 "cells": [
  {
   "cell_type": "markdown",
   "id": "8a38754d",
   "metadata": {},
   "source": [
    "# 1. Getting Started"
   ]
  },
  {
   "cell_type": "markdown",
   "id": "121387a4",
   "metadata": {},
   "source": [
    "The EIC Detector 1 collaboration will provide full simulation data files in the ROOT data format based on the EDM4hep data model through the Jefferson Lab XRootD service. This allows analysis without the need to download any data files. For this tutorial, we use a very similar dataset from the ATHENA proto-collaboration, as the software toolkit for the EIC Detector 1 is currently being defined ."
   ]
  },
  {
   "cell_type": "markdown",
   "id": "d4617a6d",
   "metadata": {},
   "source": [
    "In this notebook we show how to load a file from the XRootD service using the [uproot](https://pypi.org/project/uproot/) python library. This allows for seemless interfacing with many data science and machine learning tools."
   ]
  },
  {
   "cell_type": "markdown",
   "id": "af132b1e",
   "metadata": {},
   "source": [
    "## Importing uproot"
   ]
  },
  {
   "cell_type": "markdown",
   "id": "e84af8e6",
   "metadata": {},
   "source": [
    "Depending on the versions of uproot and XRootD that you have installed, you may encouter a warning from uproot below. Nevertheless, because of the simple data format of the ROOT files, we are able to ignore this warning."
   ]
  },
  {
   "cell_type": "code",
   "execution_count": null,
   "id": "crazy-lambda",
   "metadata": {},
   "outputs": [],
   "source": [
    "import uproot as ur\n",
    "print('Uproot version: ' + ur.__version__)"
   ]
  },
  {
   "cell_type": "markdown",
   "id": "6e9a88b6",
   "metadata": {},
   "source": [
    "## Opening a file with uproot"
   ]
  },
  {
   "cell_type": "markdown",
   "id": "a7cee19a",
   "metadata": {},
   "source": [
    "To test uproot, we will open a sample file (a single-particle simulation of interest to those who wish to study detector performance):"
   ]
  },
  {
   "cell_type": "code",
   "execution_count": null,
   "id": "defensive-dressing",
   "metadata": {},
   "outputs": [],
   "source": [
    "server = 'root://sci-xrootd.jlab.org//osgpool/eic/'\n",
    "file = 'ATHENA/RECO/master/SINGLE/pi+/1GeV/3to50deg/pi+_1GeV_3to50deg.0001.root'"
   ]
  },
  {
   "cell_type": "code",
   "execution_count": null,
   "id": "wicked-amsterdam",
   "metadata": {},
   "outputs": [],
   "source": [
    "events = ur.open(server + file + ':events', library = 'np')"
   ]
  },
  {
   "cell_type": "markdown",
   "id": "eb8afe32",
   "metadata": {},
   "source": [
    "## Exploring the file contents"
   ]
  },
  {
   "cell_type": "markdown",
   "id": "28e21b27",
   "metadata": {},
   "source": [
    "We can now look into the file, including all its branches. Let's take a look at the possible 'keys':"
   ]
  },
  {
   "cell_type": "code",
   "execution_count": null,
   "id": "701ac751",
   "metadata": {},
   "outputs": [],
   "source": [
    "events.keys()"
   ]
  },
  {
   "cell_type": "markdown",
   "id": "82ed5146",
   "metadata": {},
   "source": [
    "That is a lot of branches!\n",
    "\n",
    "Maybe we are only interested in a few branches. Let's look at the branch with particles reconstructed by the track reconstruction algorithms:"
   ]
  },
  {
   "cell_type": "code",
   "execution_count": null,
   "id": "7aabbfc7",
   "metadata": {},
   "outputs": [],
   "source": [
    "events.keys('ReconstructedParticles.*')"
   ]
  },
  {
   "cell_type": "markdown",
   "id": "c7e7c5c6",
   "metadata": {},
   "source": [
    "## Making a simple plot"
   ]
  },
  {
   "cell_type": "markdown",
   "id": "76544527",
   "metadata": {},
   "source": [
    "Of course, we came here to create plots, not just look at branches. Uproot can give us the data from branches in `numpy` arrays. From there, we can use `matplotlib` to create a histogram. Let's do this with the momentum."
   ]
  },
  {
   "cell_type": "code",
   "execution_count": null,
   "id": "0e163b3e",
   "metadata": {},
   "outputs": [],
   "source": [
    "reconstructed_particles = events['ReconstructedParticles'].arrays()"
   ]
  },
  {
   "cell_type": "markdown",
   "id": "cbf2f9f4",
   "metadata": {},
   "source": [
    "If you are running this on a Jupyter instance that displays the memory use (for example on binder), then you will see that the previous step corresponds to an increase in memory use. This will be important to keep in mind. Since you are accessing files that are (in some cases) several GBs large, you will likely want to avoid reading all arrays from an entire file in memory, even on regular servers."
   ]
  },
  {
   "cell_type": "markdown",
   "id": "7bbd72e7-6eb2-41ab-8a9d-0701d4ce5dae",
   "metadata": {},
   "source": [
    "We can of course have multiple detected particles per events, even for a single-particle final state:\n",
    "* 0 particles $\\rightarrow$ we did not detect this particle\n",
    "* 1 particle $\\rightarrow$ most likely the particle we generated\n",
    "* 2+ particles $\\rightarrow$ this might be due to our particle interacting with the detector material!\n",
    "\n",
    "In order to easily make a histogram of all particles in each event, we need to \"flatten\" the array: we go from 2D (array of all N particles per event), to a 1D array of all particles. This is accomplished through the ```flatten``` function from the ```awkward``` package."
   ]
  },
  {
   "cell_type": "code",
   "execution_count": null,
   "id": "07eed41f",
   "metadata": {},
   "outputs": [],
   "source": [
    "import awkward as ak\n",
    "recmom = ak.flatten(reconstructed_particles['ReconstructedParticles.momentum'])"
   ]
  },
  {
   "cell_type": "code",
   "execution_count": null,
   "id": "2497ebb6",
   "metadata": {},
   "outputs": [],
   "source": [
    "import matplotlib.pyplot as plt\n",
    "plt.hist(recmom, bins=100)\n",
    "plt.show()"
   ]
  }
 ],
 "metadata": {
  "kernelspec": {
   "display_name": "Python 3 (ipykernel)",
   "language": "python",
   "name": "python3"
  },
  "language_info": {
   "codemirror_mode": {
    "name": "ipython",
    "version": 3
   },
   "file_extension": ".py",
   "mimetype": "text/x-python",
   "name": "python",
   "nbconvert_exporter": "python",
   "pygments_lexer": "ipython3",
   "version": "3.10.5"
  }
 },
 "nbformat": 4,
 "nbformat_minor": 5
}
