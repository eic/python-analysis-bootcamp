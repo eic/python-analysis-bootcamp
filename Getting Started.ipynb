{
 "cells": [
  {
   "cell_type": "markdown",
   "id": "2a3842f0",
   "metadata": {
    "tags": []
   },
   "source": [
    "# Getting Started"
   ]
  },
  {
   "cell_type": "markdown",
   "id": "f7fa16dd",
   "metadata": {},
   "source": [
    "The ePIC collaboration is providing full simulation data files in the ROOT data format through the XRootD service at Jefferson Lab. This allows analysis without the need to download any data files."
   ]
  },
  {
   "cell_type": "markdown",
   "id": "c372456b",
   "metadata": {},
   "source": [
    "In this notebook we show how to load a file from the XRootD service using the [uproot](https://pypi.org/project/uproot/) python library. This allows for seemless interfacing with many data science and machine learning tools."
   ]
  },
  {
   "cell_type": "markdown",
   "id": "dd87e3d7",
   "metadata": {},
   "source": [
    "## Importing uproot"
   ]
  },
  {
   "cell_type": "markdown",
   "id": "808f3de2",
   "metadata": {},
   "source": [
    "Depending on the versions of uproot and XRootD that you have installed, you may encouter a warning from uproot below. Nevertheless, because of the simple data format of the ePIC ROOT files, we are able to ignore this warning."
   ]
  },
  {
   "cell_type": "code",
   "execution_count": null,
   "id": "crazy-lambda",
   "metadata": {},
   "outputs": [],
   "source": [
    "import uproot as ur\n",
    "print('Uproot version: ' + ur.__version__)"
   ]
  },
  {
   "cell_type": "markdown",
   "id": "02a85d93",
   "metadata": {},
   "source": [
    "## Opening a file with uproot"
   ]
  },
  {
   "cell_type": "markdown",
   "id": "54f3e386",
   "metadata": {},
   "source": [
    "To test uproot, we will open a sample file (a single reconstructed DIS NC output file):"
   ]
  },
  {
   "cell_type": "code",
   "execution_count": null,
   "id": "defensive-dressing",
   "metadata": {},
   "outputs": [],
   "source": [
    "server = 'root://dtn-eic.jlab.org//work/eic2/'\n",
    "dir = 'EPIC/RECO/23.06.1/epic_brycecanyon/DIS/NC/18x275/minQ2=10/'\n",
    "file = 'pythia8NCDIS_18x275_minQ2=10_beamEffects_xAngle=-0.025_hiDiv_1.0000.eicrecon.tree.edm4eic.root'"
   ]
  },
  {
   "cell_type": "code",
   "execution_count": null,
   "id": "wicked-amsterdam",
   "metadata": {},
   "outputs": [],
   "source": [
    "events = ur.open(server + dir + file + ':events')"
   ]
  },
  {
   "cell_type": "markdown",
   "id": "ab722977",
   "metadata": {},
   "source": [
    "## Exploring the file contents"
   ]
  },
  {
   "cell_type": "markdown",
   "id": "88d449e9",
   "metadata": {},
   "source": [
    "We can now look into the file, including all its branches. Let's take a look at the possible 'keys':"
   ]
  },
  {
   "cell_type": "code",
   "execution_count": null,
   "id": "439355a7",
   "metadata": {},
   "outputs": [],
   "source": [
    "events.keys()"
   ]
  },
  {
   "cell_type": "markdown",
   "id": "21ee8c79",
   "metadata": {},
   "source": [
    "That is a lot of branches!\n",
    "\n",
    "Maybe we are only interested in a few branches. Let's look at the branch with particles reconstructed by the track reconstruction algorithms:"
   ]
  },
  {
   "cell_type": "code",
   "execution_count": null,
   "id": "4c527b91",
   "metadata": {},
   "outputs": [],
   "source": [
    "events.keys('ReconstructedChargedParticles.*')"
   ]
  },
  {
   "cell_type": "markdown",
   "id": "970fb7e1",
   "metadata": {},
   "source": [
    "## Making a simple plot"
   ]
  },
  {
   "cell_type": "markdown",
   "id": "62ee43fd",
   "metadata": {},
   "source": [
    "Of course, we came here to create plots, not just look at branches. Uproot can give us the data from branches in `numpy` arrays. From there, we can use `matplotlib` to create a histogram. Let's do this with the momentum."
   ]
  },
  {
   "cell_type": "code",
   "execution_count": null,
   "id": "a3e18a64",
   "metadata": {},
   "outputs": [],
   "source": [
    "reconstructed_charged_particles = events['ReconstructedChargedParticles'].arrays()"
   ]
  },
  {
   "cell_type": "markdown",
   "id": "b1b4f7e0",
   "metadata": {},
   "source": [
    "If you are running this on a Jupyter instance that displays the memory use, then you will see that the previous step corresponds to an increase in memory use. This will be important to keep in mind. Since you are accessing files that are (in some cases) several GBs large, you will likely want to avoid reading all arrays from an entire file in memory, even on regular servers."
   ]
  },
  {
   "cell_type": "markdown",
   "id": "592a9a99-1e33-4c50-ae39-c8fe7bad1e3c",
   "metadata": {},
   "source": [
    "Let's start by taking a look at the `energy` variables in the array we just obtained."
   ]
  },
  {
   "cell_type": "code",
   "execution_count": null,
   "id": "be18cd70-57de-4080-a40c-e143d3e5c9b8",
   "metadata": {
    "tags": []
   },
   "outputs": [],
   "source": [
    "reconstructed_charged_particles['ReconstructedChargedParticles.energy']"
   ]
  },
  {
   "cell_type": "markdown",
   "id": "2eaf3638-0f29-47cc-b568-84f369b38971",
   "metadata": {},
   "source": [
    "As is very common in nuclear and high energy physics, these are not 'regular' numpy array, as indicated by the `var` in the dimension. This is because there are a varying number of reconstructed particles per event. We use a package `awkward` to deal with these 'awkward' arrays. In particular, we can 'regularize' these arrays using a `flatten` operation."
   ]
  },
  {
   "cell_type": "code",
   "execution_count": null,
   "id": "e7e9575a",
   "metadata": {
    "tags": []
   },
   "outputs": [],
   "source": [
    "import numpy as np\n",
    "import awkward as ak\n",
    "import matplotlib.pyplot as plt"
   ]
  },
  {
   "cell_type": "code",
   "execution_count": null,
   "id": "f5a8e4ee-d019-464a-ae35-8dc00a3584d0",
   "metadata": {},
   "outputs": [],
   "source": [
    "ak.flatten(reconstructed_charged_particles['ReconstructedChargedParticles.energy'])"
   ]
  },
  {
   "cell_type": "code",
   "execution_count": null,
   "id": "c169aec1",
   "metadata": {},
   "outputs": [],
   "source": [
    "plt.hist(ak.flatten(reconstructed_charged_particles['ReconstructedChargedParticles.energy']), range = (0, 50), bins = 50)\n",
    "plt.xlabel('Energy [GeV]')\n",
    "plt.ylabel('Events / GeV')\n",
    "plt.yscale('log')\n",
    "plt.show()"
   ]
  },
  {
   "cell_type": "code",
   "execution_count": null,
   "id": "82a4dcb3",
   "metadata": {},
   "outputs": [],
   "source": []
  }
 ],
 "metadata": {
  "kernelspec": {
   "display_name": "Python 3 (ipykernel)",
   "language": "python",
   "name": "python3"
  },
  "language_info": {
   "codemirror_mode": {
    "name": "ipython",
    "version": 3
   },
   "file_extension": ".py",
   "mimetype": "text/x-python",
   "name": "python",
   "nbconvert_exporter": "python",
   "pygments_lexer": "ipython3",
   "version": "3.10.8"
  }
 },
 "nbformat": 4,
 "nbformat_minor": 5
}
