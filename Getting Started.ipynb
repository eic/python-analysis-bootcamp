{
 "cells": [
  {
   "cell_type": "code",
   "execution_count": null,
   "id": "crazy-lambda",
   "metadata": {},
   "outputs": [],
   "source": [
    "import uproot"
   ]
  },
  {
   "cell_type": "code",
   "execution_count": null,
   "id": "defensive-dressing",
   "metadata": {},
   "outputs": [],
   "source": [
    "files = 'root://sci-xrootd.jlab.org//osgpool/eic/ATHENA/RECO/SINGLE/pi+/1GeV/3to50deg/pi+_1GeV_3to50deg.0002.root:events'"
   ]
  },
  {
   "cell_type": "code",
   "execution_count": null,
   "id": "wicked-amsterdam",
   "metadata": {},
   "outputs": [],
   "source": [
    "full_events = ur.concatenate(files, [\"mcparticles2.psx\", \"mcparticles2.psy\", \"mcparticles2.psz\", \"mcparticles2.pdgID\", \"mcparticles2.genStatus\", \"mcparticles2.g4Parent\"], library = 'np')"
   ]
  }
 ],
 "metadata": {
  "kernelspec": {
   "display_name": "Python 3",
   "language": "python",
   "name": "python3"
  },
  "language_info": {
   "codemirror_mode": {
    "name": "ipython",
    "version": 3
   },
   "file_extension": ".py",
   "mimetype": "text/x-python",
   "name": "python",
   "nbconvert_exporter": "python",
   "pygments_lexer": "ipython3",
   "version": "3.9.5"
  }
 },
 "nbformat": 4,
 "nbformat_minor": 5
}
