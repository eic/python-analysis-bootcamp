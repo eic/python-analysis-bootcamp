{
 "cells": [
  {
   "cell_type": "markdown",
   "id": "03970bb1",
   "metadata": {},
   "source": [
    "# 4. Comparing Measured and True x and Q<sup>2</sup>"
   ]
  },
  {
   "cell_type": "markdown",
   "id": "36160fea",
   "metadata": {},
   "source": [
    "One of the main goals of analysis of simulated data is to determine how well we will be able to measure the quantities we set out to measure. Since we have access to 'truth' information as well as the 'observed' quantities for the same event, we can make simple comparison."
   ]
  },
  {
   "cell_type": "markdown",
   "id": "2c8aa6b3",
   "metadata": {},
   "source": [
    "Let us start again from the $x$ and $Q^2$ calculations in a previous notebook."
   ]
  },
  {
   "cell_type": "markdown",
   "id": "described-kernel",
   "metadata": {},
   "source": [
    "## Importing packages"
   ]
  },
  {
   "cell_type": "markdown",
   "id": "indoor-desperate",
   "metadata": {},
   "source": [
    "Depending on the versions of uproot and XRootD that you have installed, you may encouter a warning from uproot below. Nevertheless, because of the simple data format of the ATHENA ROOT files, we are able to ignore this warning."
   ]
  },
  {
   "cell_type": "code",
   "execution_count": null,
   "id": "crazy-lambda",
   "metadata": {},
   "outputs": [],
   "source": [
    "import numpy as np\n",
    "import uproot as ur\n",
    "import awkward as ak\n",
    "import matplotlib.pyplot as plt"
   ]
  },
  {
   "cell_type": "markdown",
   "id": "differential-pierce",
   "metadata": {},
   "source": [
    "## Opening a file with uproot"
   ]
  },
  {
   "cell_type": "markdown",
   "id": "thick-mozambique",
   "metadata": {},
   "source": [
    "To test uproot, we will open a sample file (a DIS simulation sample):"
   ]
  },
  {
   "cell_type": "code",
   "execution_count": null,
   "id": "defensive-dressing",
   "metadata": {},
   "outputs": [],
   "source": [
    "server = 'root://sci-xrootd.jlab.org//osgpool/eic/'\n",
    "file = 'ATHENA/RECO/deathvalley-v1.0/DIS/NC/18x275/minQ2=10/pythia8NCDIS_18x275_minQ2=10_beamEffects_xAngle=-0.025_hiDiv_vtxfix_4_084.0008.root'"
   ]
  },
  {
   "cell_type": "code",
   "execution_count": null,
   "id": "wicked-amsterdam",
   "metadata": {},
   "outputs": [],
   "source": [
    "events = ur.open(server + file + ':events')"
   ]
  },
  {
   "cell_type": "markdown",
   "id": "bright-ferry",
   "metadata": {},
   "source": [
    "## Accessing the reconstructed particle momentum"
   ]
  },
  {
   "cell_type": "markdown",
   "id": "living-architecture",
   "metadata": {},
   "source": [
    "For this analysis we will only use the three-momentum `p` and the particle identication code `pid`. We will select only electrons (`pid == 11`) and combine them with their initial momentum $\\vec{p}_0$ which, in the ATHENA coordinate system, is in the negative $z$ direction by definition."
   ]
  },
  {
   "cell_type": "code",
   "execution_count": null,
   "id": "respected-ivory",
   "metadata": {},
   "outputs": [],
   "source": [
    "reconstructed_particles = events['ReconstructedParticles'].arrays()"
   ]
  },
  {
   "cell_type": "code",
   "execution_count": null,
   "id": "paperback-arrow",
   "metadata": {},
   "outputs": [],
   "source": [
    "kr1, kr2, kr3 = reconstructed_particles['ReconstructedParticles.p.x'], reconstructed_particles['ReconstructedParticles.p.y'], reconstructed_particles['ReconstructedParticles.p.z']\n",
    "pidr = reconstructed_particles['ReconstructedParticles.pid']\n",
    "mr = reconstructed_particles['ReconstructedParticles.mass']"
   ]
  },
  {
   "cell_type": "markdown",
   "id": "ffd81b97-aa34-4ec2-8a37-844a3e1672b6",
   "metadata": {},
   "source": [
    "Note that the last two events in this data file do not have any particles, so we truncate them to avoid issues down the road. This was also the case in the previous exercise but will lead to issues when matching the generated and reconstructed values."
   ]
  },
  {
   "cell_type": "code",
   "execution_count": null,
   "id": "519984a7-5a9e-4b6c-b461-5621dad8f0a3",
   "metadata": {},
   "outputs": [],
   "source": [
    "kr1"
   ]
  },
  {
   "cell_type": "code",
   "execution_count": null,
   "id": "467dd53c-829f-4b32-a980-729cc0824e60",
   "metadata": {},
   "outputs": [],
   "source": [
    "kp1 = kr1[:-2]\n",
    "kp2 = kr2[:-2]\n",
    "kp3 = kr3[:-2]\n",
    "pid = pidr[:-2]\n",
    "m   = mr[:-2]"
   ]
  },
  {
   "cell_type": "markdown",
   "id": "45227999",
   "metadata": {},
   "source": [
    "## Determining the momentum transfer $Q^2$"
   ]
  },
  {
   "cell_type": "markdown",
   "id": "small-queensland",
   "metadata": {},
   "source": [
    "For all particles we can calculate the energy, which we will consider the zeroth component of the four-momentum $p$."
   ]
  },
  {
   "cell_type": "code",
   "execution_count": null,
   "id": "collect-secondary",
   "metadata": {},
   "outputs": [],
   "source": [
    "kp0 = np.sqrt(m**2+(kp1**2+kp2**2+kp3**2))"
   ]
  },
  {
   "cell_type": "markdown",
   "id": "9b399a6a",
   "metadata": {},
   "source": [
    "The four-momentum of the incoming electron beam has only a $p_z$ and $E$ component."
   ]
  },
  {
   "cell_type": "code",
   "execution_count": null,
   "id": "e66bc170",
   "metadata": {},
   "outputs": [],
   "source": [
    "k3 = -18\n",
    "m0 = 0.000511\n",
    "k0 = np.sqrt(m0**2 + k3**2)"
   ]
  },
  {
   "cell_type": "markdown",
   "id": "f289b696",
   "metadata": {},
   "source": [
    "We can now calculate the components of the four-momentum transfer $q_\\mu = (k_\\mu - k'_\\mu)$:"
   ]
  },
  {
   "cell_type": "code",
   "execution_count": null,
   "id": "boring-testing",
   "metadata": {},
   "outputs": [],
   "source": [
    "q0 = k0 - kp0\n",
    "q1 =    - kp1\n",
    "q2 =    - kp2\n",
    "q3 = k3 - kp3"
   ]
  },
  {
   "cell_type": "markdown",
   "id": "e09538e3",
   "metadata": {},
   "source": [
    "With the four components we can form the squared four-momentum transfer, a scalar quantity, which is $Q^2 = -q^2$. Of course we also need to ensure our detected particle was an electron!"
   ]
  },
  {
   "cell_type": "code",
   "execution_count": null,
   "id": "42afb3af",
   "metadata": {},
   "outputs": [],
   "source": [
    "is_electron = (pid == 11)\n",
    "Q2_all = -(q0**2 - q1**2 - q2**2 - q3**2)[is_electron]"
   ]
  },
  {
   "cell_type": "markdown",
   "id": "7444aeda-0716-44b7-b80a-211b324eb09d",
   "metadata": {},
   "source": [
    "...but, there may be multiple electrons in the final state. We select those Q2 values that are the largest as the ones most likely to be correct."
   ]
  },
  {
   "cell_type": "code",
   "execution_count": null,
   "id": "670372bc-bbff-48ac-b7a7-a4bb13056f3b",
   "metadata": {},
   "outputs": [],
   "source": [
    "Q2 = ak.max(Q2_all, 1)"
   ]
  },
  {
   "cell_type": "markdown",
   "id": "78a60a15",
   "metadata": {},
   "source": [
    "## Determining the momentum fraction $x$"
   ]
  },
  {
   "cell_type": "markdown",
   "id": "27cd2609",
   "metadata": {},
   "source": [
    "In order to determine $x$ we also need the incoming proton momentum $\\vec{p}$. While it might be appealing to think that the proton momentum must be exactly along the $z$ axis as well, this is not the case in the interaction points of the EIC. At interaction point 6 (IP6), the crossing angle is -25 mrad in the $xz$ plane. Thus, the proton four-momentum is:"
   ]
  },
  {
   "cell_type": "code",
   "execution_count": null,
   "id": "55f001af",
   "metadata": {},
   "outputs": [],
   "source": [
    "alpha = -0.025\n",
    "p1 = 275 * np.sin(alpha)\n",
    "p2 = 0\n",
    "p3 = 275 * np.cos(alpha)\n",
    "p0 = np.sqrt(0.938**2 + p1**2 + p2**2 + p3**2)"
   ]
  },
  {
   "cell_type": "markdown",
   "id": "cc2b33da",
   "metadata": {},
   "source": [
    "With this proton four-momentum we can now calculate the product $p \\cdot q$, another scalar quantity:"
   ]
  },
  {
   "cell_type": "code",
   "execution_count": null,
   "id": "08e33a81",
   "metadata": {},
   "outputs": [],
   "source": [
    "pq = (p0 * q0 - p1 * q1 - p2 * q2 - p3 * q3)[is_electron]"
   ]
  },
  {
   "cell_type": "markdown",
   "id": "a00af22f",
   "metadata": {},
   "source": [
    "and finally also $x = \\frac{Q^2}{2 pq}$:"
   ]
  },
  {
   "cell_type": "code",
   "execution_count": null,
   "id": "69cc2c91",
   "metadata": {},
   "outputs": [],
   "source": [
    "x_all = 0.5 * Q2 / pq"
   ]
  },
  {
   "cell_type": "markdown",
   "id": "6341d61e-6c52-4c3d-a1ac-14595bf78a56",
   "metadata": {},
   "source": [
    "Same issue with x as for $Q^2$, we want to select the same kinematics corresponding to the largest value for $Q^2$"
   ]
  },
  {
   "cell_type": "code",
   "execution_count": null,
   "id": "f029148a-4601-453a-9123-41f06f5f8119",
   "metadata": {},
   "outputs": [],
   "source": [
    "x = ak.flatten(ak.to_numpy(x_all[Q2_all == ak.max(Q2_all, 1)]))"
   ]
  },
  {
   "cell_type": "markdown",
   "id": "0a56bd21",
   "metadata": {},
   "source": [
    "## Determining the true $x$ "
   ]
  },
  {
   "cell_type": "markdown",
   "id": "aecc5acd",
   "metadata": {},
   "source": [
    "Because we have access to the `mcparticles` branch, we can determine the 'true' $x$. For the rest we follow exactly the same procedure as for the reconstructed particles. Note the same truncation as we did before."
   ]
  },
  {
   "cell_type": "code",
   "execution_count": null,
   "id": "b2f32705-082e-4e0d-8247-bdcc1fbe38df",
   "metadata": {},
   "outputs": [],
   "source": [
    "mcparts = events['mcparticles'].arrays()[:-2]\n",
    "pdgID = mcparts['mcparticles.pdgID']\n",
    "status = mcparts['mcparticles.genStatus']\n",
    "pgen1,pgen2,pgen3 = mcparts['mcparticles.ps.x'], mcparts['mcparticles.ps.y'], mcparts['mcparticles.ps.z']\n",
    "mgen = mcparts['mcparticles.mass']"
   ]
  },
  {
   "cell_type": "code",
   "execution_count": null,
   "id": "09f6e676",
   "metadata": {},
   "outputs": [],
   "source": [
    "pgen0 = np.sqrt(mgen**2+(pgen1**2+pgen2**2+pgen3**2))"
   ]
  },
  {
   "cell_type": "markdown",
   "id": "a0ebd081",
   "metadata": {},
   "source": [
    "Both beam particles (with realistic accelerator beam effects), and detected electrons are stored. \n",
    " * Beam particles have status `4`  \n",
    " * Final state particles have status `1`.\n",
    " * Electrons have PID code `11`\n",
    " * Protons have PID code `2212`\n",
    " \n",
    " Finally, we ensure we only calculate the scattered electron kinenatics for the highest energy electron in the event."
   ]
  },
  {
   "cell_type": "code",
   "execution_count": null,
   "id": "74c07aa9",
   "metadata": {},
   "outputs": [],
   "source": [
    "is_beam_electron = np.logical_and(status==4, pdgID==11)\n",
    "is_beam_proton = np.logical_and(status==4, pdgID==2212)\n",
    "is_fs_electron = np.logical_and(status==1, pdgID==11)\n",
    "\n",
    "kgen0 = pgen0[is_beam_electron]\n",
    "kgen1 = pgen1[is_beam_electron]\n",
    "kgen2 = pgen2[is_beam_electron]\n",
    "kgen3 = pgen3[is_beam_electron]\n",
    "\n",
    "Pgen0 = pgen0[is_beam_proton]\n",
    "Pgen1 = pgen1[is_beam_proton]\n",
    "Pgen2 = pgen2[is_beam_proton]\n",
    "Pgen3 = pgen3[is_beam_proton]\n",
    "\n",
    "kpgen0 = ak.max(pgen0[is_fs_electron], 1)\n",
    "kpgen1 = ak.max(pgen1[is_fs_electron], 1)\n",
    "kpgen2 = ak.max(pgen2[is_fs_electron], 1)\n",
    "kpgen3 = ak.max(pgen3[is_fs_electron], 1)"
   ]
  },
  {
   "cell_type": "markdown",
   "id": "8bd76768-b610-4eeb-b071-dadb10db687e",
   "metadata": {},
   "source": [
    "Now we can calculate the true kinematic quantities as before."
   ]
  },
  {
   "cell_type": "code",
   "execution_count": null,
   "id": "702676f4-f0d4-4cb2-9490-d98a0e01a4c3",
   "metadata": {},
   "outputs": [],
   "source": [
    "qgen0 = kgen0 - kpgen0\n",
    "qgen1 = kgen1 - kpgen1\n",
    "qgen2 = kgen2 - kpgen2\n",
    "qgen3 = kgen3 - kpgen3\n",
    "Q2gen = ak.flatten(-(qgen0**2 - qgen1**2 - qgen2**2 - qgen3**2))"
   ]
  },
  {
   "cell_type": "code",
   "execution_count": null,
   "id": "d9d3874d-ef1e-45fb-8498-f612880f8612",
   "metadata": {},
   "outputs": [],
   "source": [
    "pqgen = ak.flatten(Pgen0 * qgen0 - Pgen1 * qgen1 - Pgen2 * qgen2 - Pgen3 * qgen3)\n",
    "pkgen = ak.flatten(Pgen0 * kgen0 - Pgen1 * kgen1 - Pgen2 * kgen2 - Pgen3 * kgen3)\n",
    "ygen = pqgen / pkgen"
   ]
  },
  {
   "cell_type": "code",
   "execution_count": null,
   "id": "27627588-2e02-47bc-9c7a-27c28af84cbf",
   "metadata": {},
   "outputs": [],
   "source": [
    "xgen = 0.5 * Q2gen / pqgen"
   ]
  },
  {
   "cell_type": "markdown",
   "id": "49a89f90",
   "metadata": {},
   "source": [
    "## Comparing the true $x$ and observed $x$"
   ]
  },
  {
   "cell_type": "markdown",
   "id": "23ab6d04",
   "metadata": {},
   "source": [
    "So, how well did we do? Let's take a look at the numbers first."
   ]
  },
  {
   "cell_type": "code",
   "execution_count": null,
   "id": "d7549662",
   "metadata": {},
   "outputs": [],
   "source": [
    "print(x)\n",
    "print(xgen)"
   ]
  },
  {
   "cell_type": "code",
   "execution_count": null,
   "id": "613d4262",
   "metadata": {},
   "outputs": [],
   "source": [
    "print(Q2)\n",
    "print(Q2gen)"
   ]
  },
  {
   "cell_type": "markdown",
   "id": "d298bc6e",
   "metadata": {},
   "source": [
    "Not too bad! Let's make some plots."
   ]
  },
  {
   "cell_type": "code",
   "execution_count": null,
   "id": "b3ab99aa",
   "metadata": {},
   "outputs": [],
   "source": [
    "Q2_ratio = ak.to_numpy(Q2) / ak.to_numpy(Q2gen)"
   ]
  },
  {
   "cell_type": "code",
   "execution_count": null,
   "id": "338d3db0",
   "metadata": {},
   "outputs": [],
   "source": [
    "plt.hist(Q2_ratio, range=[0.9, 1.1], bins = 50)\n",
    "#plt.yscale('log')\n",
    "plt.xlabel('meas $Q^2$ / true $Q^2$')\n",
    "plt.ylabel('Number of events')\n",
    "plt.show()"
   ]
  },
  {
   "cell_type": "code",
   "execution_count": null,
   "id": "d52cf7dc",
   "metadata": {},
   "outputs": [],
   "source": [
    "Q2_bins = np.logspace(1,3,40)\n",
    "plt.hist2d(ak.to_numpy(Q2gen), ak.to_numpy(Q2), bins = [Q2_bins, Q2_bins])\n",
    "plt.xlabel('true $Q^2$ [GeV^2]')\n",
    "plt.ylabel('meas $Q^2$ [GeV^2]')\n",
    "plt.xscale('log')\n",
    "plt.yscale('log')\n",
    "plt.show()"
   ]
  },
  {
   "cell_type": "markdown",
   "id": "e80c6a30",
   "metadata": {},
   "source": [
    "Now we have to get the $x$ values to use the corresponding values."
   ]
  },
  {
   "cell_type": "code",
   "execution_count": null,
   "id": "f9a022f4",
   "metadata": {},
   "outputs": [],
   "source": [
    "x_ratio = ak.to_numpy(x) / ak.to_numpy(xgen)"
   ]
  },
  {
   "cell_type": "markdown",
   "id": "787eecf5",
   "metadata": {},
   "source": [
    "We can now plot both a histogram of the ratio and another scatter plot."
   ]
  },
  {
   "cell_type": "code",
   "execution_count": null,
   "id": "f6552cb9",
   "metadata": {},
   "outputs": [],
   "source": [
    "plt.hist(x_ratio, range=[0.5, 1.5], bins = 40)\n",
    "#plt.yscale('log')\n",
    "plt.xlabel('meas $x$ / true $x$')\n",
    "plt.ylabel('Number of events')\n",
    "plt.show()"
   ]
  },
  {
   "cell_type": "code",
   "execution_count": null,
   "id": "30257b68",
   "metadata": {},
   "outputs": [],
   "source": [
    "x_bins = np.logspace(-2,0,30)\n",
    "plt.hist2d(ak.to_numpy(xgen), ak.to_numpy(x), bins = [x_bins, x_bins])\n",
    "plt.xscale('log')\n",
    "plt.yscale('log')\n",
    "plt.xlabel('true $x$ [GeV^2]')\n",
    "plt.ylabel('meas $x$ [GeV^2]')\n",
    "plt.show()"
   ]
  },
  {
   "cell_type": "markdown",
   "id": "93268a98-c24b-494b-ae1e-1cf03df54bd4",
   "metadata": {},
   "source": [
    "The resolution here looks quite a bit worse. In a realistic analysis, we would be using a combination of different reconstruction methods for the DIS kinematics based on where in phase space we are. This can dramatically improve the resolutions."
   ]
  },
  {
   "cell_type": "code",
   "execution_count": null,
   "id": "b55fc570-daf8-4d79-8f86-5aa201e476c5",
   "metadata": {},
   "outputs": [],
   "source": []
  }
 ],
 "metadata": {
  "kernelspec": {
   "display_name": "Python 3 (ipykernel)",
   "language": "python",
   "name": "python3"
  },
  "language_info": {
   "codemirror_mode": {
    "name": "ipython",
    "version": 3
   },
   "file_extension": ".py",
   "mimetype": "text/x-python",
   "name": "python",
   "nbconvert_exporter": "python",
   "pygments_lexer": "ipython3",
   "version": "3.10.5"
  }
 },
 "nbformat": 4,
 "nbformat_minor": 5
}
