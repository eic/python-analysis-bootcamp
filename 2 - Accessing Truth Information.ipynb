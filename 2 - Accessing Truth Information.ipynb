{
 "cells": [
  {
   "cell_type": "markdown",
   "id": "69b6bc70",
   "metadata": {},
   "source": [
    "# 2. Accessing Truth Information"
   ]
  },
  {
   "cell_type": "markdown",
   "id": "d71cf679",
   "metadata": {},
   "source": [
    "An important aspect at this stage in the design of EIC experiments is the comparison of the so-called 'truth' information with simulated variables. In this notebook we will go over how to access the truth information in an ATHENA event, similar to the EDM4hep-based data model used for the EIC Detector 1."
   ]
  },
  {
   "cell_type": "markdown",
   "id": "04b12abb",
   "metadata": {},
   "source": [
    "## Importing uproot"
   ]
  },
  {
   "cell_type": "markdown",
   "id": "5914b70e",
   "metadata": {},
   "source": [
    "Depending on the versions of uproot and XRootD that you have installed, you may encouter a warning from uproot below. Nevertheless, because of the simple data format of the  ROOT files, we are able to ignore this warning."
   ]
  },
  {
   "cell_type": "code",
   "execution_count": null,
   "id": "crazy-lambda",
   "metadata": {},
   "outputs": [],
   "source": [
    "import uproot as ur\n",
    "print('Uproot version: ' + ur.__version__)"
   ]
  },
  {
   "cell_type": "markdown",
   "id": "4e80ffb4",
   "metadata": {},
   "source": [
    "## Opening a file with uproot"
   ]
  },
  {
   "cell_type": "markdown",
   "id": "2a831f82",
   "metadata": {},
   "source": [
    "To test uproot, we will open a sample file (a single-particle simulation of interest to those who wish to study detector performance):"
   ]
  },
  {
   "cell_type": "code",
   "execution_count": null,
   "id": "defensive-dressing",
   "metadata": {},
   "outputs": [],
   "source": [
    "server = 'root://sci-xrootd.jlab.org//osgpool/eic/'\n",
    "file = 'ATHENA/RECO/master/SINGLE/pi+/1GeV/3to50deg/pi+_1GeV_3to50deg.0001.root'"
   ]
  },
  {
   "cell_type": "code",
   "execution_count": null,
   "id": "wicked-amsterdam",
   "metadata": {},
   "outputs": [],
   "source": [
    "events = ur.open(server + file + ':events', library = 'np')"
   ]
  },
  {
   "cell_type": "markdown",
   "id": "f1c5394b",
   "metadata": {},
   "source": [
    "## Truth information in the `mcparticles` branch"
   ]
  },
  {
   "cell_type": "markdown",
   "id": "e2e6caf8-3acb-432a-b8ea-d00da854df94",
   "metadata": {},
   "source": [
    "Truth information is stored in the `mcparticles` branch. This includes all *steps* in the simulation, subject to certain conditions. For the purpose of end-user analysis, the conditions are essentially that only steps by primary particles are included."
   ]
  },
  {
   "cell_type": "markdown",
   "id": "535b3986",
   "metadata": {},
   "source": [
    "Several fields are available for the truth information:"
   ]
  },
  {
   "cell_type": "code",
   "execution_count": null,
   "id": "4aa97b40",
   "metadata": {},
   "outputs": [],
   "source": [
    "events['mcparticles'].keys()"
   ]
  },
  {
   "cell_type": "markdown",
   "id": "c33b1db0",
   "metadata": {},
   "source": [
    "Besides the particle data group code `pdgID`, the parent track `g4Parent`, and the generator status `genstatus`, you will also see the vertex (`v`) and momentum (`p`) of at the start (`s`) and end (`e`) of each step. Thus, `ps.x` corresponds to the `x` component of the momentum at the start of a step. Let's retrieve these starting momenta, as well as the `pdgID` and `g4Parent` code"
   ]
  },
  {
   "cell_type": "code",
   "execution_count": null,
   "id": "119d78f5",
   "metadata": {},
   "outputs": [],
   "source": [
    "pdgID = events['mcparticles.pdgID'].array()\n",
    "g4Parent = events['mcparticles.g4Parent'].array()\n",
    "genStatus = events['mcparticles.genStatus'].array()\n",
    "psx,psy,psz = events['mcparticles.ps.x'].array(), events['mcparticles.ps.y'].array(), events['mcparticles.ps.z'].array()"
   ]
  },
  {
   "cell_type": "markdown",
   "id": "adeea0f9",
   "metadata": {},
   "source": [
    "As expected, for this file the `pdgID` corresponds to that of a pion."
   ]
  },
  {
   "cell_type": "code",
   "execution_count": null,
   "id": "d26bed1a",
   "metadata": {},
   "outputs": [],
   "source": [
    "pdgID[100]"
   ]
  },
  {
   "cell_type": "code",
   "execution_count": null,
   "id": "9224487b",
   "metadata": {},
   "outputs": [],
   "source": [
    "print(g4Parent[100])"
   ]
  },
  {
   "cell_type": "markdown",
   "id": "ba3cd738",
   "metadata": {},
   "source": [
    "And indeed, the energy of this pion is 1 GeV. We are importing the `numpy` library to use the `sqrt` function."
   ]
  },
  {
   "cell_type": "code",
   "execution_count": null,
   "id": "167dfc76",
   "metadata": {},
   "outputs": [],
   "source": [
    "import numpy as np\n",
    "p = np.sqrt(psx**2 + psy**2 + psz**2)"
   ]
  },
  {
   "cell_type": "code",
   "execution_count": null,
   "id": "37672e7c",
   "metadata": {},
   "outputs": [],
   "source": [
    "p[100]"
   ]
  },
  {
   "cell_type": "markdown",
   "id": "49fec044",
   "metadata": {},
   "source": [
    "## Making a simple plot"
   ]
  },
  {
   "cell_type": "markdown",
   "id": "f0fc54a2",
   "metadata": {},
   "source": [
    "We can now create a simple plot of the angular (theta) distribution of the generated particles. Note we have to \"flatten\" the array again using ```awkward``` before we can plot it."
   ]
  },
  {
   "cell_type": "code",
   "execution_count": null,
   "id": "a3ed4ccc",
   "metadata": {},
   "outputs": [],
   "source": [
    "import awkward as ak\n",
    "theta = np.arctan2(np.sqrt(psx**2 + psy**2), psz)\n",
    "ak.flatten(theta[g4Parent == 0])"
   ]
  },
  {
   "cell_type": "code",
   "execution_count": null,
   "id": "303548c1",
   "metadata": {},
   "outputs": [],
   "source": [
    "import matplotlib.pyplot as plt\n",
    "plt.hist(ak.flatten(theta[g4Parent == 0]), bins = 50)\n",
    "plt.xlabel('Initial Scattering Angle $\\\\theta$ [rad]')\n",
    "plt.ylabel('Number of events')\n",
    "plt.show()"
   ]
  }
 ],
 "metadata": {
  "kernelspec": {
   "display_name": "Python 3 (ipykernel)",
   "language": "python",
   "name": "python3"
  },
  "language_info": {
   "codemirror_mode": {
    "name": "ipython",
    "version": 3
   },
   "file_extension": ".py",
   "mimetype": "text/x-python",
   "name": "python",
   "nbconvert_exporter": "python",
   "pygments_lexer": "ipython3",
   "version": "3.10.5"
  }
 },
 "nbformat": 4,
 "nbformat_minor": 5
}
